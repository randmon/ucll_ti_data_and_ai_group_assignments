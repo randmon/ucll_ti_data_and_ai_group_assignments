{
 "cells": [
  {
   "cell_type": "markdown",
   "metadata": {},
   "source": [
    "# Data and AI Assignment 3\n",
    "![UCLL logo](https://cdn.discordapp.com/attachments/1025724154852417549/1033683765530218506/unknown.png)\n",
    "\n",
    "Group\n",
    "- Astrid Piot\n",
    "- Catarina Rilho\n",
    "- Catarina Afonso\n",
    "- Cristina Marques\n",
    "- Greg François Reynders\n",
    "- Robbe Van de Velde\n",
    "- Rocío Pérez Holgado\n",
    "- Seppe Haems"
   ]
  },
  {
   "attachments": {},
   "cell_type": "markdown",
   "metadata": {},
   "source": [
    "## Foreword\n",
    "\n",
    "This notebook is intended to be presented to the stakeholders and people who don't necessarily have a technical background.<br/>\n",
    "Therefore, we will try to explain the concepts and the results in a simple way. For a more technical explanation of our modelling process, please refer to the [technical notebook](modelling.ipynb)."
   ]
  },
  {
   "attachments": {},
   "cell_type": "markdown",
   "metadata": {},
   "source": [
    "## Recap"
   ]
  },
  {
   "attachments": {},
   "cell_type": "markdown",
   "metadata": {},
   "source": [
    "Here is a recap of what we did in the previous assignment with the results we obtained and answers to the questions we asked."
   ]
  },
  {
   "attachments": {},
   "cell_type": "markdown",
   "metadata": {},
   "source": [
    "### Bussiness understanding\n",
    "---"
   ]
  },
  {
   "attachments": {},
   "cell_type": "markdown",
   "metadata": {},
   "source": [
    "\n",
    "#### 1) The business objectives \n",
    "\n",
    "A school wants to graduate as many high quality students as possible and have them occupy important positions in the workfield.<br/>\n",
    "This means keeping the standard of graduates high, while also passing a lot of students.<br/>\n",
    "Having talented students at their disposal makes this job easier.<br/>\n",
    "So a school needs to keep its reputation high, in order to convince talented students to apply, international students and local ones.<br/>\n",
    "A delicate balance between passing a lot of students, and keeping the bar high emerges.\n",
    "   \n",
    "#### 2) Assess situation: What needs to be done to get ready?\n",
    "      \n",
    "- Risk: we are not allowed to make decision's based on race, gender and disability.<br/>\n",
    "- To do: gather data about students and courses. <br/>\n",
    "- Cost: will be zero in terms of currency, we only need to request data.<br/>\n",
    "- Constraints: time is the biggest constraint we only have a limited time before our deadlines.<br/>\n",
    "- Benefits: we will predict which students have a higher succes rate, so we can actively try to get them to come to our school.\n",
    " \n",
    "#### 3) Data science goals\n",
    "      \n",
    "- Main goal:\n",
    "\n",
    "Given data about a student, we want to predict if they are going to be successful or not.<br/>\n",
    "- Other goals:\n",
    "\n",
    "Analyze which courses are failed/passed the most, in order to improve these courses.<br/>\n",
    "How do students interact with the virtual learning environments and how does it improve their chances to succeed in the courses.<br/><br/>"
   ]
  },
  {
   "attachments": {},
   "cell_type": "markdown",
   "metadata": {},
   "source": [
    "### Data understanding\n",
    "---\n",
    "\n",
    "A few questions we researched in the previous assignment (see notebook from [previous assignment](../Assignment%202/assignment2.ipynb)):"
   ]
  },
  {
   "attachments": {},
   "cell_type": "markdown",
   "metadata": {},
   "source": [
    "##### 🔎 How many students did not submit their assessments?\n",
    "\n",
    "There were only 173 assignments that were not submitted out of 869560 entries (0.000199%). <br/>\n",
    "This is a very small percentage and we can conclude that most students do submit their assignments."
   ]
  },
  {
   "attachments": {},
   "cell_type": "markdown",
   "metadata": {},
   "source": [
    "##### 🔎 Is there any correlation between disability and the student's final result?\n",
    "\n",
    "There are 2717 disabled students (9.44 %) and 26068 non-disabled students (90.56 %) in our dataset.\n",
    "\n",
    "<center>\n",
    "<img src=\"images/disability_final_results_distribution.png\" style=\"max-width: 90%;\"/><br/>\n",
    "</center>\n",
    "\n",
    "Disabled students have higher percentages of \"Fail\" and \"Withdrawn\" than not disabled students."
   ]
  },
  {
   "attachments": {},
   "cell_type": "markdown",
   "metadata": {},
   "source": [
    "##### 🔎 Is there any correlation between the gender and the student's final result?\n",
    "\n",
    "There are 13396 male students (51.82%), and 12455 female students (48.18%) in our dataset.<br/>\n",
    "There is a 0.4 % difference between the female and male students' average scores, but we are not sure if this is statistically significant.\n",
    "\n",
    "<center>\n",
    "<img src=\"images/gender_scores.png\" /><br/>\n",
    "</center>\n",
    "\n",
    "We also observed a weird pattern: In all of the scores, except at 1, 20, 40, 60, 80 and 100, there seem to be more males than females, but at those values there are considerably more females. We don't know if this is a mistake, or if female students are being evaluated differently than male students.\n",
    "\n",
    "<center>\n",
    "<img src=\"images/gender_final_results.png\" style=\"max-width: 90%;\"/><br/>\n",
    "</center>\n",
    "\n",
    "From this data, we concluded that there are no big differences between the two genders' final results."
   ]
  },
  {
   "attachments": {},
   "cell_type": "markdown",
   "metadata": {},
   "source": [
    "##### 🔎 Is there any correlation between the IMD score and the student's final result?\n",
    "<blockquote> \n",
    "The IMD score is a measure of the deprivation of an area, and it ranges from 1 to 10, where 1 is the most deprived area and 10 is the least deprived area.\n",
    "</blockquote>\n",
    "<br/>\n",
    "<center>\n",
    "<img src=\"images/imd_scores.png\" style=\"max-width: 90%; max-height: 550px;\"/><br/>\n",
    "</center>\n",
    "\n",
    "We observed a positive correlation between the IMD score and scores of the students, which means the higher the IMD, the higher the average score of the students.\n",
    "\n",
    "<center>\n",
    "<img src=\"images/imd_final_results.png\" style=\"max-width: 90%;\"/><br/>\n",
    "</center>\n",
    "\n",
    "There is also a higher percentage of students who pass or have a distinction on the higher imd_band levels, and a higher percentage of failed students on the lower levels."
   ]
  },
  {
   "attachments": {},
   "cell_type": "markdown",
   "metadata": {},
   "source": [
    "\n",
    "##### 🔎 Is there any correlation between age and the student's final result?\n",
    "\n",
    "There are 20665 students who are 35 years old or younger, 8298 students between the ages of 35 and 55, and only 184 older than 55 years old. This is a very big difference, so drawing conclusions from this data might be misleading.\n",
    "\n",
    "<center>\n",
    "<img src=\"images/age_scores.png\" style=\"max-height: 600px;\"/><br/>\n",
    "</center>\n",
    "\n",
    "Still, we can see that the average score of the students increases with age, which means that older students have higher scores on average."
   ]
  },
  {
   "attachments": {},
   "cell_type": "markdown",
   "metadata": {},
   "source": [
    "##### 🔎 Is there any correlation between the highest education level and the student's final result?\n",
    "\n",
    "<center>\n",
    "<img src=\"images/education_final_results.png\" style=\"max-height: 600px;\"/><br/>\n",
    "</center>\n",
    "\n",
    "We can see that the percentage of students who pass or have a distinction increases with the highest education level, and the percentage of failed students decreases."
   ]
  },
  {
   "attachments": {},
   "cell_type": "markdown",
   "metadata": {},
   "source": [
    "##### 🔎 Is there any correlation between the region and the student's final result?\n",
    "\n",
    "First we noticed that a lot of column values were missing for students from the Scotland region. Our approach was to notify the business about it.\n",
    "\n",
    "<center>\n",
    "<img src=\"images/region_final_results.png\" style=\"max-height: 600px;\"/><br/>\n",
    "</center>\n",
    "\n",
    "The East Midlands region has the highest percentage of students who Widthdraw.<br/>\n",
    "The North Western region has the highest percentage of Failed students.<br/>\n",
    "\n",
    "Ireland has the highest percentage of passed students, and the North Region has the highest percentage of students with a distinction.<br/>\n",
    "\n",
    "If we look at the sum of \"Passed\" and \"Distinction\" as being \"Successful\" and the sum of being \"Failed\" or \"Widthdrawn\" as \"Unsuccessful\", then we can see that the North region is in the lead with 75% successful students and the North Western Region is at the bottom with 67% of successful students.<br/>\n",
    "\n",
    "We concluded that the region does have an impact on the student's final result."
   ]
  },
  {
   "attachments": {},
   "cell_type": "markdown",
   "metadata": {},
   "source": [
    "##### 🔎 Is there any correlation between interaction with the VLE's and the student's final result?\n",
    "\n",
    "It was difficult to answer this question because there were a lot of outliers. <br/>\n",
    "\n",
    "<center>\n",
    "<img src=\"images/sum_clicks_final_results.png\" style=\"max-height: 600px;\"/><br/>\n",
    "</center>\n",
    "\n",
    "We don't know if this is statistically significant, but we can conclude that there is a correlation between the interaction with the VLE and the student's final result. Students who pass or have a distinction have a higher average number of clicks than students who fail or withdraw."
   ]
  },
  {
   "attachments": {},
   "cell_type": "markdown",
   "metadata": {},
   "source": [
    "### Data quality\n",
    "---"
   ]
  },
  {
   "attachments": {},
   "cell_type": "markdown",
   "metadata": {},
   "source": [
    "- Dates and other columns were in weird formats, and we didn't know how to interpret them.\n",
    "- There were a lot of missing values, especially on rows of students from the Scotland region.\n",
    "\n",
    "We contacted the business about these issues, and a more complete dictionary was provided as well as a dataset with the missing values for the Scotland region filled in.<br/>\n",
    "Unfortunately, we didn't have enough time to do a full analysis of the new dataset. We did however use it for the modelling part of this assignment."
   ]
  },
  {
   "attachments": {},
   "cell_type": "markdown",
   "metadata": {},
   "source": [
    "## Data Modelling"
   ]
  },
  {
   "attachments": {},
   "cell_type": "markdown",
   "metadata": {},
   "source": [
    "### 🎯 Prediction target: Final result"
   ]
  },
  {
   "cell_type": "markdown",
   "metadata": {},
   "source": [
    "The main goal of this project was to predict the **final result** for a new student, using their data.<br/>\n",
    "\n",
    "We merged the categories \"Distinction\" and \"Pass\" into one category since they are both considered successful results.<br/>\n",
    "The category \"Withdrawn\" was not considered because it is not a final result, and we don't know if the student would eventually pass or fail.<br/>\n",
    "\n",
    "So our prediction target is if a student will \"Pass\" or \"Fail\"."
   ]
  },
  {
   "attachments": {},
   "cell_type": "markdown",
   "metadata": {},
   "source": [
    "### 📊 Features\n",
    "\n",
    "For a new student, we wouldn't have data on their assessment scores or interactions with the VLE, so we decided not to include these features.<br/>\n",
    "The most relevant data we would have on a new student would be in the \"Student Info\" table.<br/>\n",
    "\n",
    "Given the time constraints, we decided to use only the features that we analyzed in the previous assignments and that we thought were relevant to the prediction.<br/>\n",
    "These features are: **gender, region, highest education, IMD score, age, number of previous attempts, studied credits and disability**.\n",
    "\n",
    "If we had more time, we would have also investigated if the module or the presentation were relevant to the prediction, since taking different modules or registering at a different time of the year might impact the student's final result.<br/>\n",
    "But for now we did not include these features."
   ]
  },
  {
   "attachments": {},
   "cell_type": "markdown",
   "metadata": {},
   "source": [
    "### 📈 Model selection"
   ]
  },
  {
   "attachments": {},
   "cell_type": "markdown",
   "metadata": {},
   "source": [
    "Our target variable is the final results which can be \"Pass\" or \"Fail\". This is a binary classification problem, so we decided to use classification models.<br/>\n",
    "We tried the following models: **Naive Bayes, Logistic Regression, Decision Tree, Random Forest, KNN, SVM, Neural Network**.<br/>\n",
    "\n",
    "We used different metrics to evaluate the models, such as:\n",
    "- **Accuracy** - how many times the model was correct overall.\n",
    "- **Precision** - the ratio of correctly predicted positive observations to the total predicted positive observations.\n",
    "- **Recall** - how many of the positive observations in a dataset the model is able to correctly identify.\n",
    "\n",
    "\n",
    "We also used cross validation to verify that the models were not overfitting.<br/>\n",
    "\n",
    "After comparing the different metrics of the models, we decided that the best model for our use-case was the Decision Tree model.<br/>\n",
    "It had an accuracy of 68,13%, a precision of 50,36% and a recall of 20,28%.<br/>\n",
    "\n",
    "Even though our Neural Network model had a sligthly better accuracy (68,57%), it took a lot longer to run and the recall was worse, so we decided to go with the Decision Tree model."
   ]
  },
  {
   "cell_type": "markdown",
   "metadata": {},
   "source": [
    "### ✅ Model evaluation"
   ]
  },
  {
   "attachments": {},
   "cell_type": "markdown",
   "metadata": {},
   "source": [
    "![Decision Tree Confusion matrix](images/decision_tree_confusion_matrix.png)"
   ]
  },
  {
   "cell_type": "code",
   "execution_count": 1,
   "metadata": {},
   "outputs": [
    {
     "name": "stdout",
     "output_type": "stream",
     "text": [
      "Students who actually passed:  5868\n",
      "Students who actually failed:  2757\n",
      "Students who were predicted to pass:  7515\n",
      "Students who were predicted to fail:  1110\n"
     ]
    }
   ],
   "source": [
    "print(\"Students who actually passed: \", 5317 + 551)\n",
    "print(\"Students who actually failed: \", 2198 + 559)\n",
    "print(\"Students who were predicted to pass: \", 5317 + 2198)\n",
    "print(\"Students who were predicted to fail: \", 551 + 559)"
   ]
  },
  {
   "attachments": {},
   "cell_type": "markdown",
   "metadata": {},
   "source": [
    "In the data there are 5868 students that pass and 2757 that failed.\n",
    "In the confusion matrix we can see that the model predicted that 7515 students would pass, but of these 7515 only 5317 actually passed. On other hand, the model predicted that 1110 students would fail, but only 559 did. "
   ]
  },
  {
   "attachments": {},
   "cell_type": "markdown",
   "metadata": {},
   "source": [
    "Looking at these results, we can see that even though the accuracy of this model stands over 68.13%, it makes a lot more mistakes when is dealing with failed students.\n",
    "\n",
    "This is probably because in our dataset there are a lot more students that pass, so even if the model guesses that every student passes, the accuracy would still be high.\n",
    "\n",
    "Every model that we made always predicted that most students would pass. So that is why we looked for a model that would have a better recall for failed students."
   ]
  },
  {
   "attachments": {},
   "cell_type": "markdown",
   "metadata": {},
   "source": [
    "We can also have a quick look at how the decision tree makes it predictions. We won't go into detail but as an example we can look at the top 3 levels of the tree:"
   ]
  },
  {
   "attachments": {},
   "cell_type": "markdown",
   "metadata": {},
   "source": [
    "![Decision Tree](images/decision_tree_3_levels.png)"
   ]
  },
  {
   "attachments": {},
   "cell_type": "markdown",
   "metadata": {},
   "source": [
    "We can see here that the model thinks that the most important feature is the number of previous attempts. If the student has less than 0.5 attempts (so 0) it will look at the student's highest education. \n",
    "After that it will look at the imd band of the student. We can see that this model thinks that number of previous attempts, highest education and imd score are the most important features to predict if a student will pass or fail."
   ]
  },
  {
   "attachments": {},
   "cell_type": "markdown",
   "metadata": {},
   "source": [
    "So using this model to predict if a new student will pass or fail we would get around 68% of the cases correct , but it will most likely predict that the student will pass. "
   ]
  },
  {
   "attachments": {},
   "cell_type": "markdown",
   "metadata": {},
   "source": [
    "An advantage of using a decision tree is also that it is very fast so it takes less resources than many other models. It's also a very intuitive model because it's easy to read and visualize everything."
   ]
  },
  {
   "attachments": {},
   "cell_type": "markdown",
   "metadata": {},
   "source": [
    "### Conclusion"
   ]
  },
  {
   "attachments": {},
   "cell_type": "markdown",
   "metadata": {},
   "source": [
    "With our current model it is hard to predict whether or not a new student is going to pass or fail. \n",
    "We came to the realization that if we want to predict the final result of a new student, we only have access to the student information. \n",
    "Because of this, we have limited amount of data to use in our prediction models which makes the accuracy, recall and precision hard to improve without adding additional data. We could try to add more columns to the student information or try to predict the final result for students where we have access to more information. "
   ]
  },
  {
   "attachments": {},
   "cell_type": "markdown",
   "metadata": {},
   "source": [
    "Some features in the dataset have uneven distributions, for example there is very little data for students in the higher age band or with higher number of previous attempts. As mentioned before, our decision tree sees number of previous attempts as one of the most important features to determine the final_result. But due to the fact that we don't have a lot of data about it, this actually might not be the case"
   ]
  },
  {
   "attachments": {},
   "cell_type": "markdown",
   "metadata": {},
   "source": [
    "With the time and resources we were given we got a good insight of the data and learned a lot about what is needed to predict the final result of a student."
   ]
  },
  {
   "attachments": {},
   "cell_type": "markdown",
   "metadata": {},
   "source": [
    "The next step would be to experiment with the data model knowing its predictions are not very accurate. It could be used as a tool to determine which students are at a higher risk of failing in order to offer them extra help during the semester. It should not be used to accept or deny students into the school, especially because it takes into account features that are unethical to work with for those means, like gender, poverty score, etc."
   ]
  }
 ],
 "metadata": {
  "kernelspec": {
   "display_name": "Python 3",
   "language": "python",
   "name": "python3"
  },
  "language_info": {
   "codemirror_mode": {
    "name": "ipython",
    "version": 3
   },
   "file_extension": ".py",
   "mimetype": "text/x-python",
   "name": "python",
   "nbconvert_exporter": "python",
   "pygments_lexer": "ipython3",
   "version": "3.8.5 (tags/v3.8.5:580fbb0, Jul 20 2020, 15:57:54) [MSC v.1924 64 bit (AMD64)]"
  },
  "vscode": {
   "interpreter": {
    "hash": "d5d1249b5fe30e46e74ceeacdd3f24b42c98167c36f219cfad19945447007da9"
   }
  }
 },
 "nbformat": 4,
 "nbformat_minor": 2
}
