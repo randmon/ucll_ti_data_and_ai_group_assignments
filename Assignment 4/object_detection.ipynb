{
 "cells": [
  {
   "cell_type": "code",
   "execution_count": 17,
   "metadata": {},
   "outputs": [],
   "source": [
    "import tensorflow_hub as hub\n",
    "import tensorflow as tf\n",
    "import numpy as np\n",
    "import matplotlib.pyplot as plt"
   ]
  },
  {
   "cell_type": "code",
   "execution_count": 18,
   "metadata": {},
   "outputs": [],
   "source": [
    "def display_image(image):\n",
    "  fig = plt.figure(figsize=(20, 15))\n",
    "  plt.grid(False)\n",
    "  plt.imshow(image)"
   ]
  },
  {
   "cell_type": "code",
   "execution_count": 19,
   "metadata": {},
   "outputs": [],
   "source": [
    "def load_img(path):\n",
    "  img = tf.io.read_file(path)\n",
    "  img = tf.image.decode_jpeg(img, channels=3)\n",
    "  return img"
   ]
  },
  {
   "cell_type": "code",
   "execution_count": 20,
   "metadata": {},
   "outputs": [],
   "source": [
    "def run_detector(detector, path):\n",
    "  img = load_img(path)\n",
    "\n",
    "  converted_img  = tf.image.convert_image_dtype(img, tf.float32)[tf.newaxis, ...]\n",
    "  result = detector(converted_img)\n",
    "\n",
    "  result = {key:value.numpy() for key,value in result.items()}\n",
    "\n",
    "  print(\"Found %d objects.\" % len(result[\"detection_scores\"]))\n",
    "\n",
    "  display_image(img)"
   ]
  },
  {
   "cell_type": "code",
   "execution_count": 21,
   "metadata": {},
   "outputs": [
    {
     "ename": "KeyboardInterrupt",
     "evalue": "",
     "output_type": "error",
     "traceback": [
      "\u001b[1;31m---------------------------------------------------------------------------\u001b[0m",
      "\u001b[1;31mKeyboardInterrupt\u001b[0m                         Traceback (most recent call last)",
      "Cell \u001b[1;32mIn [21], line 1\u001b[0m\n\u001b[1;32m----> 1\u001b[0m detector \u001b[39m=\u001b[39m hub\u001b[39m.\u001b[39;49mload(\u001b[39m\"\u001b[39;49m\u001b[39mhttps://tfhub.dev/tensorflow/centernet/resnet50v2_512x512_kpts/1\u001b[39;49m\u001b[39m\"\u001b[39;49m)\n\u001b[0;32m      2\u001b[0m detector_output \u001b[39m=\u001b[39m detector(\u001b[39m\"\u001b[39m\u001b[39mdata/1666696509939.jpg\u001b[39m\u001b[39m\"\u001b[39m)\n\u001b[0;32m      3\u001b[0m class_ids \u001b[39m=\u001b[39m detector_output[\u001b[39m\"\u001b[39m\u001b[39mdetection_classes\u001b[39m\u001b[39m\"\u001b[39m]\n",
      "File \u001b[1;32mc:\\Users\\robbe\\AppData\\Local\\Programs\\Python\\Python39\\lib\\site-packages\\tensorflow_hub\\module_v2.py:106\u001b[0m, in \u001b[0;36mload\u001b[1;34m(handle, tags, options)\u001b[0m\n\u001b[0;32m    103\u001b[0m   obj \u001b[39m=\u001b[39m tf\u001b[39m.\u001b[39mcompat\u001b[39m.\u001b[39mv1\u001b[39m.\u001b[39msaved_model\u001b[39m.\u001b[39mload_v2(\n\u001b[0;32m    104\u001b[0m       module_path, tags\u001b[39m=\u001b[39mtags, options\u001b[39m=\u001b[39moptions)\n\u001b[0;32m    105\u001b[0m \u001b[39melse\u001b[39;00m:\n\u001b[1;32m--> 106\u001b[0m   obj \u001b[39m=\u001b[39m tf\u001b[39m.\u001b[39;49mcompat\u001b[39m.\u001b[39;49mv1\u001b[39m.\u001b[39;49msaved_model\u001b[39m.\u001b[39;49mload_v2(module_path, tags\u001b[39m=\u001b[39;49mtags)\n\u001b[0;32m    107\u001b[0m obj\u001b[39m.\u001b[39m_is_hub_module_v1 \u001b[39m=\u001b[39m is_hub_module_v1  \u001b[39m# pylint: disable=protected-access\u001b[39m\n\u001b[0;32m    108\u001b[0m \u001b[39mreturn\u001b[39;00m obj\n",
      "File \u001b[1;32mc:\\Users\\robbe\\AppData\\Local\\Programs\\Python\\Python39\\lib\\site-packages\\tensorflow\\python\\saved_model\\load.py:828\u001b[0m, in \u001b[0;36mload\u001b[1;34m(export_dir, tags, options)\u001b[0m\n\u001b[0;32m    826\u001b[0m \u001b[39mif\u001b[39;00m \u001b[39misinstance\u001b[39m(export_dir, os\u001b[39m.\u001b[39mPathLike):\n\u001b[0;32m    827\u001b[0m   export_dir \u001b[39m=\u001b[39m os\u001b[39m.\u001b[39mfspath(export_dir)\n\u001b[1;32m--> 828\u001b[0m result \u001b[39m=\u001b[39m load_partial(export_dir, \u001b[39mNone\u001b[39;49;00m, tags, options)[\u001b[39m\"\u001b[39m\u001b[39mroot\u001b[39m\u001b[39m\"\u001b[39m]\n\u001b[0;32m    829\u001b[0m \u001b[39mreturn\u001b[39;00m result\n",
      "File \u001b[1;32mc:\\Users\\robbe\\AppData\\Local\\Programs\\Python\\Python39\\lib\\site-packages\\tensorflow\\python\\saved_model\\load.py:958\u001b[0m, in \u001b[0;36mload_partial\u001b[1;34m(export_dir, filters, tags, options)\u001b[0m\n\u001b[0;32m    956\u001b[0m \u001b[39mwith\u001b[39;00m ops\u001b[39m.\u001b[39minit_scope():\n\u001b[0;32m    957\u001b[0m   \u001b[39mtry\u001b[39;00m:\n\u001b[1;32m--> 958\u001b[0m     loader \u001b[39m=\u001b[39m Loader(object_graph_proto, saved_model_proto, export_dir,\n\u001b[0;32m    959\u001b[0m                     ckpt_options, options, filters)\n\u001b[0;32m    960\u001b[0m   \u001b[39mexcept\u001b[39;00m errors\u001b[39m.\u001b[39mNotFoundError \u001b[39mas\u001b[39;00m err:\n\u001b[0;32m    961\u001b[0m     \u001b[39mraise\u001b[39;00m \u001b[39mFileNotFoundError\u001b[39;00m(\n\u001b[0;32m    962\u001b[0m         \u001b[39mstr\u001b[39m(err) \u001b[39m+\u001b[39m \u001b[39m\"\u001b[39m\u001b[39m\\n\u001b[39;00m\u001b[39m You may be trying to load on a different device \u001b[39m\u001b[39m\"\u001b[39m\n\u001b[0;32m    963\u001b[0m         \u001b[39m\"\u001b[39m\u001b[39mfrom the computational device. Consider setting the \u001b[39m\u001b[39m\"\u001b[39m\n\u001b[0;32m    964\u001b[0m         \u001b[39m\"\u001b[39m\u001b[39m`experimental_io_device` option in `tf.saved_model.LoadOptions` \u001b[39m\u001b[39m\"\u001b[39m\n\u001b[0;32m    965\u001b[0m         \u001b[39m\"\u001b[39m\u001b[39mto the io_device such as \u001b[39m\u001b[39m'\u001b[39m\u001b[39m/job:localhost\u001b[39m\u001b[39m'\u001b[39m\u001b[39m.\u001b[39m\u001b[39m\"\u001b[39m)\n",
      "File \u001b[1;32mc:\\Users\\robbe\\AppData\\Local\\Programs\\Python\\Python39\\lib\\site-packages\\tensorflow\\python\\saved_model\\load.py:189\u001b[0m, in \u001b[0;36mLoader.__init__\u001b[1;34m(self, object_graph_proto, saved_model_proto, export_dir, ckpt_options, save_options, filters)\u001b[0m\n\u001b[0;32m    186\u001b[0m \u001b[39m# Order all nodes or filtered nodes using the dependencies.\u001b[39m\n\u001b[0;32m    187\u001b[0m \u001b[39mself\u001b[39m\u001b[39m.\u001b[39m_ordered_node_ids \u001b[39m=\u001b[39m \u001b[39mself\u001b[39m\u001b[39m.\u001b[39m_generate_ordered_node_ids()\n\u001b[1;32m--> 189\u001b[0m \u001b[39mself\u001b[39;49m\u001b[39m.\u001b[39;49m_load_all()\n\u001b[0;32m    191\u001b[0m \u001b[39mif\u001b[39;00m \u001b[39mnot\u001b[39;00m save_options\u001b[39m.\u001b[39mexperimental_skip_checkpoint:\n\u001b[0;32m    192\u001b[0m   \u001b[39mself\u001b[39m\u001b[39m.\u001b[39m_restore_checkpoint()\n",
      "File \u001b[1;32mc:\\Users\\robbe\\AppData\\Local\\Programs\\Python\\Python39\\lib\\site-packages\\tensorflow\\python\\saved_model\\load.py:286\u001b[0m, in \u001b[0;36mLoader._load_all\u001b[1;34m(self)\u001b[0m\n\u001b[0;32m    284\u001b[0m \u001b[39mdef\u001b[39;00m \u001b[39m_load_all\u001b[39m(\u001b[39mself\u001b[39m):\n\u001b[0;32m    285\u001b[0m   \u001b[39m\"\"\"Loads all nodes and functions from the SavedModel and their edges.\"\"\"\u001b[39m\n\u001b[1;32m--> 286\u001b[0m   \u001b[39mself\u001b[39;49m\u001b[39m.\u001b[39;49m_load_nodes()\n\u001b[0;32m    287\u001b[0m   \u001b[39mself\u001b[39m\u001b[39m.\u001b[39m_load_edges()\n\u001b[0;32m    289\u001b[0m   \u001b[39m# Set up concrete functions that aren't part of the object graph\u001b[39m\n\u001b[0;32m    290\u001b[0m   \u001b[39m# (e.g. gradient functions)\u001b[39m\n",
      "File \u001b[1;32mc:\\Users\\robbe\\AppData\\Local\\Programs\\Python\\Python39\\lib\\site-packages\\tensorflow\\python\\saved_model\\load.py:501\u001b[0m, in \u001b[0;36mLoader._load_nodes\u001b[1;34m(self)\u001b[0m\n\u001b[0;32m    499\u001b[0m   node_setters[slot_variable_proto\u001b[39m.\u001b[39mslot_variable_node_id] \u001b[39m=\u001b[39m \u001b[39msetattr\u001b[39m\n\u001b[0;32m    500\u001b[0m \u001b[39melse\u001b[39;00m:\n\u001b[1;32m--> 501\u001b[0m   node, setter \u001b[39m=\u001b[39m \u001b[39mself\u001b[39;49m\u001b[39m.\u001b[39;49m_recreate(proto, node_id, nodes)\n\u001b[0;32m    502\u001b[0m   nodes[node_id] \u001b[39m=\u001b[39m node\n\u001b[0;32m    503\u001b[0m   node_setters[node_id] \u001b[39m=\u001b[39m setter\n",
      "File \u001b[1;32mc:\\Users\\robbe\\AppData\\Local\\Programs\\Python\\Python39\\lib\\site-packages\\tensorflow\\python\\saved_model\\load.py:618\u001b[0m, in \u001b[0;36mLoader._recreate\u001b[1;34m(self, proto, node_id, nodes)\u001b[0m\n\u001b[0;32m    616\u001b[0m   \u001b[39mreturn\u001b[39;00m obj, setter\n\u001b[0;32m    617\u001b[0m \u001b[39melse\u001b[39;00m:\n\u001b[1;32m--> 618\u001b[0m   \u001b[39mreturn\u001b[39;00m \u001b[39mself\u001b[39;49m\u001b[39m.\u001b[39;49m_recreate_default(proto, node_id, dependencies)\n",
      "File \u001b[1;32mc:\\Users\\robbe\\AppData\\Local\\Programs\\Python\\Python39\\lib\\site-packages\\tensorflow\\python\\saved_model\\load.py:637\u001b[0m, in \u001b[0;36mLoader._recreate_default\u001b[1;34m(self, proto, node_id, deps)\u001b[0m\n\u001b[0;32m    634\u001b[0m \u001b[39mif\u001b[39;00m kind \u001b[39mnot\u001b[39;00m \u001b[39min\u001b[39;00m factory:\n\u001b[0;32m    635\u001b[0m   \u001b[39mraise\u001b[39;00m \u001b[39mValueError\u001b[39;00m(f\u001b[39m\"\u001b[39m\u001b[39mUnknown SavedObject type: \u001b[39m\u001b[39m{kind}\u001b[39;00m\u001b[39m. Expected one of \u001b[39m\u001b[39m\"\u001b[39m\n\u001b[0;32m    636\u001b[0m                    f\u001b[39m\"\u001b[39m\u001b[39m{\u001b[39m\u001b[39mlist(factory.keys())}.\u001b[39m\u001b[39m\"\u001b[39m)\n\u001b[1;32m--> 637\u001b[0m \u001b[39mreturn\u001b[39;00m factory[kind]()\n",
      "File \u001b[1;32mc:\\Users\\robbe\\AppData\\Local\\Programs\\Python\\Python39\\lib\\site-packages\\tensorflow\\python\\saved_model\\load.py:624\u001b[0m, in \u001b[0;36mLoader._recreate_default.<locals>.<lambda>\u001b[1;34m()\u001b[0m\n\u001b[0;32m    620\u001b[0m \u001b[39mdef\u001b[39;00m \u001b[39m_recreate_default\u001b[39m(\u001b[39mself\u001b[39m, proto, node_id, deps):\n\u001b[0;32m    621\u001b[0m   \u001b[39m\"\"\"Creates a Python object from a SavedObject protocol buffer.\"\"\"\u001b[39m\n\u001b[0;32m    622\u001b[0m   factory \u001b[39m=\u001b[39m {\n\u001b[0;32m    623\u001b[0m       \u001b[39m\"\u001b[39m\u001b[39muser_object\u001b[39m\u001b[39m\"\u001b[39m: (\n\u001b[1;32m--> 624\u001b[0m           \u001b[39mlambda\u001b[39;00m: \u001b[39mself\u001b[39;49m\u001b[39m.\u001b[39;49m_recreate_user_object(proto\u001b[39m.\u001b[39;49muser_object, node_id)),\n\u001b[0;32m    625\u001b[0m       \u001b[39m\"\u001b[39m\u001b[39mfunction\u001b[39m\u001b[39m\"\u001b[39m: \u001b[39mlambda\u001b[39;00m: \u001b[39mself\u001b[39m\u001b[39m.\u001b[39m_recreate_function(proto\u001b[39m.\u001b[39mfunction, deps),\n\u001b[0;32m    626\u001b[0m       \u001b[39m\"\u001b[39m\u001b[39mbare_concrete_function\u001b[39m\u001b[39m\"\u001b[39m: functools\u001b[39m.\u001b[39mpartial(\n\u001b[0;32m    627\u001b[0m           \u001b[39mself\u001b[39m\u001b[39m.\u001b[39m_recreate_bare_concrete_function,\n\u001b[0;32m    628\u001b[0m           proto\u001b[39m=\u001b[39mproto\u001b[39m.\u001b[39mbare_concrete_function, dependencies\u001b[39m=\u001b[39mdeps),\n\u001b[0;32m    629\u001b[0m       \u001b[39m\"\u001b[39m\u001b[39mvariable\u001b[39m\u001b[39m\"\u001b[39m: \u001b[39mlambda\u001b[39;00m: \u001b[39mself\u001b[39m\u001b[39m.\u001b[39m_recreate_variable(proto\u001b[39m.\u001b[39mvariable),\n\u001b[0;32m    630\u001b[0m       \u001b[39m\"\u001b[39m\u001b[39mcaptured_tensor\u001b[39m\u001b[39m\"\u001b[39m: functools\u001b[39m.\u001b[39mpartial(\n\u001b[0;32m    631\u001b[0m           \u001b[39mself\u001b[39m\u001b[39m.\u001b[39m_get_tensor_from_fn, proto\u001b[39m.\u001b[39mcaptured_tensor),\n\u001b[0;32m    632\u001b[0m   }\n\u001b[0;32m    633\u001b[0m   kind \u001b[39m=\u001b[39m proto\u001b[39m.\u001b[39mWhichOneof(\u001b[39m\"\u001b[39m\u001b[39mkind\u001b[39m\u001b[39m\"\u001b[39m)\n\u001b[0;32m    634\u001b[0m   \u001b[39mif\u001b[39;00m kind \u001b[39mnot\u001b[39;00m \u001b[39min\u001b[39;00m factory:\n",
      "File \u001b[1;32mc:\\Users\\robbe\\AppData\\Local\\Programs\\Python\\Python39\\lib\\site-packages\\tensorflow\\python\\saved_model\\load.py:651\u001b[0m, in \u001b[0;36mLoader._recreate_user_object\u001b[1;34m(self, proto, node_id)\u001b[0m\n\u001b[0;32m    647\u001b[0m   \u001b[39mexcept\u001b[39;00m \u001b[39mImportError\u001b[39;00m \u001b[39mas\u001b[39;00m e:\n\u001b[0;32m    648\u001b[0m     \u001b[39mraise\u001b[39;00m \u001b[39mImportError\u001b[39;00m(\n\u001b[0;32m    649\u001b[0m         \u001b[39m\"\u001b[39m\u001b[39mError when importing Keras. Unable to load SavedModel that \u001b[39m\u001b[39m\"\u001b[39m\n\u001b[0;32m    650\u001b[0m         \u001b[39m\"\u001b[39m\u001b[39mcontains an optimizer without the Keras module.\u001b[39m\u001b[39m\"\u001b[39m) \u001b[39mfrom\u001b[39;00m \u001b[39me\u001b[39;00m\n\u001b[1;32m--> 651\u001b[0m looked_up \u001b[39m=\u001b[39m revived_types\u001b[39m.\u001b[39;49mdeserialize(proto)\n\u001b[0;32m    652\u001b[0m \u001b[39mif\u001b[39;00m looked_up \u001b[39mis\u001b[39;00m \u001b[39mNone\u001b[39;00m:\n\u001b[0;32m    653\u001b[0m   \u001b[39mreturn\u001b[39;00m \u001b[39mself\u001b[39m\u001b[39m.\u001b[39m_recreate_base_user_object(proto, node_id)\n",
      "File \u001b[1;32mc:\\Users\\robbe\\AppData\\Local\\Programs\\Python\\Python39\\lib\\site-packages\\tensorflow\\python\\saved_model\\revived_types.py:165\u001b[0m, in \u001b[0;36mdeserialize\u001b[1;34m(proto)\u001b[0m\n\u001b[0;32m    163\u001b[0m   \u001b[39mfor\u001b[39;00m type_registration \u001b[39min\u001b[39;00m type_registrations:\n\u001b[0;32m    164\u001b[0m     \u001b[39mif\u001b[39;00m type_registration\u001b[39m.\u001b[39mshould_load(proto):\n\u001b[1;32m--> 165\u001b[0m       \u001b[39mreturn\u001b[39;00m (type_registration\u001b[39m.\u001b[39;49mfrom_proto(proto), type_registration\u001b[39m.\u001b[39msetter)\n\u001b[0;32m    166\u001b[0m \u001b[39mreturn\u001b[39;00m \u001b[39mNone\u001b[39;00m\n",
      "File \u001b[1;32mc:\\Users\\robbe\\AppData\\Local\\Programs\\Python\\Python39\\lib\\site-packages\\tensorflow\\python\\saved_model\\revived_types.py:85\u001b[0m, in \u001b[0;36mVersionedTypeRegistration.from_proto\u001b[1;34m(self, proto)\u001b[0m\n\u001b[0;32m     83\u001b[0m \u001b[39mdef\u001b[39;00m \u001b[39mfrom_proto\u001b[39m(\u001b[39mself\u001b[39m, proto):\n\u001b[0;32m     84\u001b[0m   \u001b[39m\"\"\"Recreate a trackable object from a SavedUserObject proto.\"\"\"\u001b[39m\n\u001b[1;32m---> 85\u001b[0m   \u001b[39mreturn\u001b[39;00m \u001b[39mself\u001b[39;49m\u001b[39m.\u001b[39;49m_object_factory(proto)\n",
      "File \u001b[1;32mc:\\Users\\robbe\\AppData\\Local\\Programs\\Python\\Python39\\lib\\site-packages\\tensorflow\\python\\trackable\\data_structures.py:1125\u001b[0m, in \u001b[0;36m<lambda>\u001b[1;34m(proto)\u001b[0m\n\u001b[0;32m   1117\u001b[0m     list_object\u001b[39m.\u001b[39mextend([\u001b[39mNone\u001b[39;00m] \u001b[39m*\u001b[39m (\u001b[39m1\u001b[39m \u001b[39m+\u001b[39m item_index \u001b[39m-\u001b[39m \u001b[39mlen\u001b[39m(list_object)))\n\u001b[0;32m   1118\u001b[0m   list_object[item_index] \u001b[39m=\u001b[39m value\n\u001b[0;32m   1121\u001b[0m revived_types\u001b[39m.\u001b[39mregister_revived_type(\n\u001b[0;32m   1122\u001b[0m     \u001b[39m\"\u001b[39m\u001b[39mtrackable_list_wrapper\u001b[39m\u001b[39m\"\u001b[39m,\n\u001b[0;32m   1123\u001b[0m     \u001b[39mlambda\u001b[39;00m obj: \u001b[39misinstance\u001b[39m(obj, ListWrapper),\n\u001b[0;32m   1124\u001b[0m     versions\u001b[39m=\u001b[39m[revived_types\u001b[39m.\u001b[39mVersionedTypeRegistration(\n\u001b[1;32m-> 1125\u001b[0m         object_factory\u001b[39m=\u001b[39m\u001b[39mlambda\u001b[39;00m proto: ListWrapper([]),\n\u001b[0;32m   1126\u001b[0m         version\u001b[39m=\u001b[39m\u001b[39m1\u001b[39m,\n\u001b[0;32m   1127\u001b[0m         min_producer_version\u001b[39m=\u001b[39m\u001b[39m1\u001b[39m,\n\u001b[0;32m   1128\u001b[0m         min_consumer_version\u001b[39m=\u001b[39m\u001b[39m1\u001b[39m,\n\u001b[0;32m   1129\u001b[0m         setter\u001b[39m=\u001b[39m_set_list_item)])\n\u001b[0;32m   1132\u001b[0m \u001b[39mdef\u001b[39;00m \u001b[39m_set_tuple_item\u001b[39m(list_object, index_string, value):\n\u001b[0;32m   1133\u001b[0m   \u001b[39mtry\u001b[39;00m:\n",
      "File \u001b[1;32mc:\\Users\\robbe\\AppData\\Local\\Programs\\Python\\Python39\\lib\\site-packages\\tensorflow\\python\\trackable\\data_structures.py:486\u001b[0m, in \u001b[0;36mListWrapper.__init__\u001b[1;34m(self, wrapped_list)\u001b[0m\n\u001b[0;32m    484\u001b[0m \u001b[39mself\u001b[39m\u001b[39m.\u001b[39m_non_append_mutation_value \u001b[39m=\u001b[39m \u001b[39mFalse\u001b[39;00m\n\u001b[0;32m    485\u001b[0m \u001b[39mself\u001b[39m\u001b[39m.\u001b[39m_external_modification_value \u001b[39m=\u001b[39m \u001b[39mFalse\u001b[39;00m\n\u001b[1;32m--> 486\u001b[0m \u001b[39msuper\u001b[39;49m()\u001b[39m.\u001b[39;49m\u001b[39m__init__\u001b[39;49m(wrapped_list)\n\u001b[0;32m    487\u001b[0m \u001b[39mself\u001b[39m\u001b[39m.\u001b[39m_last_wrapped_list_snapshot \u001b[39m=\u001b[39m \u001b[39mlist\u001b[39m(\u001b[39mself\u001b[39m\u001b[39m.\u001b[39m_storage)\n",
      "File \u001b[1;32mc:\\Users\\robbe\\AppData\\Local\\Programs\\Python\\Python39\\lib\\site-packages\\tensorflow\\python\\trackable\\data_structures.py:369\u001b[0m, in \u001b[0;36mList.__init__\u001b[1;34m(self, *args, **kwargs)\u001b[0m\n\u001b[0;32m    367\u001b[0m \u001b[39mdef\u001b[39;00m \u001b[39m__init__\u001b[39m(\u001b[39mself\u001b[39m, \u001b[39m*\u001b[39margs, \u001b[39m*\u001b[39m\u001b[39m*\u001b[39mkwargs):\n\u001b[0;32m    368\u001b[0m   \u001b[39m\"\"\"Construct a new sequence. Arguments are passed to `list()`.\"\"\"\u001b[39m\n\u001b[1;32m--> 369\u001b[0m   \u001b[39msuper\u001b[39;49m()\u001b[39m.\u001b[39;49m\u001b[39m__init__\u001b[39;49m()\n\u001b[0;32m    370\u001b[0m   \u001b[39mself\u001b[39m\u001b[39m.\u001b[39m_storage \u001b[39m=\u001b[39m \u001b[39mself\u001b[39m\u001b[39m.\u001b[39m_make_storage(\u001b[39m*\u001b[39margs, \u001b[39m*\u001b[39m\u001b[39m*\u001b[39mkwargs)\n\u001b[0;32m    371\u001b[0m   \u001b[39mfor\u001b[39;00m index, element \u001b[39min\u001b[39;00m \u001b[39menumerate\u001b[39m(\u001b[39mself\u001b[39m\u001b[39m.\u001b[39m_storage):\n",
      "File \u001b[1;32mc:\\Users\\robbe\\AppData\\Local\\Programs\\Python\\Python39\\lib\\site-packages\\tensorflow\\python\\trackable\\data_structures.py:189\u001b[0m, in \u001b[0;36mTrackableDataStructure.__init__\u001b[1;34m(self)\u001b[0m\n\u001b[0;32m    187\u001b[0m \u001b[39mself\u001b[39m\u001b[39m.\u001b[39m_self_trainable \u001b[39m=\u001b[39m \u001b[39mTrue\u001b[39;00m\n\u001b[0;32m    188\u001b[0m \u001b[39mself\u001b[39m\u001b[39m.\u001b[39m_self_extra_variables \u001b[39m=\u001b[39m []\n\u001b[1;32m--> 189\u001b[0m \u001b[39mself\u001b[39m\u001b[39m.\u001b[39m_self_attribute_sentinel \u001b[39m=\u001b[39m layer_utils\u001b[39m.\u001b[39;49mAttributeSentinel(\u001b[39mTrue\u001b[39;49;00m)\n",
      "File \u001b[1;32mc:\\Users\\robbe\\AppData\\Local\\Programs\\Python\\Python39\\lib\\site-packages\\tensorflow\\python\\trackable\\layer_utils.py:83\u001b[0m, in \u001b[0;36mAttributeSentinel.__init__\u001b[1;34m(self, always_propagate)\u001b[0m\n\u001b[0;32m     82\u001b[0m \u001b[39mdef\u001b[39;00m \u001b[39m__init__\u001b[39m(\u001b[39mself\u001b[39m, always_propagate\u001b[39m=\u001b[39m\u001b[39mFalse\u001b[39;00m):\n\u001b[1;32m---> 83\u001b[0m   \u001b[39mself\u001b[39m\u001b[39m.\u001b[39m_parents \u001b[39m=\u001b[39m weakref\u001b[39m.\u001b[39;49mWeakSet()\n\u001b[0;32m     84\u001b[0m   \u001b[39mself\u001b[39m\u001b[39m.\u001b[39mattributes \u001b[39m=\u001b[39m collections\u001b[39m.\u001b[39mdefaultdict(MutationSentinel)\n\u001b[0;32m     86\u001b[0m   \u001b[39m# The trackable data structure containers are simple pass throughs. They\u001b[39m\n\u001b[0;32m     87\u001b[0m   \u001b[39m# don't know or care about particular attributes. As a result, they will\u001b[39m\n\u001b[0;32m     88\u001b[0m   \u001b[39m# consider themselves to be in a cached state, so it's up to the Layer\u001b[39m\n\u001b[0;32m     89\u001b[0m   \u001b[39m# which contains them to terminate propagation.\u001b[39m\n",
      "File \u001b[1;32mc:\\Users\\robbe\\AppData\\Local\\Programs\\Python\\Python39\\lib\\_weakrefset.py:46\u001b[0m, in \u001b[0;36mWeakSet.__init__\u001b[1;34m(self, data)\u001b[0m\n\u001b[0;32m     44\u001b[0m         \u001b[39melse\u001b[39;00m:\n\u001b[0;32m     45\u001b[0m             \u001b[39mself\u001b[39m\u001b[39m.\u001b[39mdata\u001b[39m.\u001b[39mdiscard(item)\n\u001b[1;32m---> 46\u001b[0m \u001b[39mself\u001b[39;49m\u001b[39m.\u001b[39;49m_remove \u001b[39m=\u001b[39m _remove\n\u001b[0;32m     47\u001b[0m \u001b[39m# A list of keys to be removed\u001b[39m\n\u001b[0;32m     48\u001b[0m \u001b[39mself\u001b[39m\u001b[39m.\u001b[39m_pending_removals \u001b[39m=\u001b[39m []\n",
      "\u001b[1;31mKeyboardInterrupt\u001b[0m: "
     ]
    }
   ],
   "source": [
    "detector = hub.load(\"https://tfhub.dev/tensorflow/centernet/resnet50v2_512x512_kpts/1\")\n",
    "detector_output = detector(\"data/1666696509939.jpg\")\n",
    "class_ids = detector_output[\"detection_classes\"]"
   ]
  }
 ],
 "metadata": {
  "kernelspec": {
   "display_name": "Python 3",
   "language": "python",
   "name": "python3"
  },
  "language_info": {
   "codemirror_mode": {
    "name": "ipython",
    "version": 3
   },
   "file_extension": ".py",
   "mimetype": "text/x-python",
   "name": "python",
   "nbconvert_exporter": "python",
   "pygments_lexer": "ipython3",
   "version": "3.9.1"
  },
  "orig_nbformat": 4,
  "vscode": {
   "interpreter": {
    "hash": "c63f4ecd0005f07c40b6ebeb83b983cc57a33d941931825f5bf304630c3e124a"
   }
  }
 },
 "nbformat": 4,
 "nbformat_minor": 2
}
