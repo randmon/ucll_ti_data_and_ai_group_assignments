{
 "cells": [
  {
   "attachments": {},
   "cell_type": "markdown",
   "metadata": {},
   "source": [
    "This is the notebook of the following medium difficulty task: (OpenCV) Try heuristic algorithms e.g., you select an image of the place without people. You subtract all images from that image in your test set. The number of shapes larger than a threshold size are people. Compare speed/performance. Feel free to suggest other heuristics.\n",
    "\n",
    "We are basically trying to look at the difference between the background image and the image filled with people. This way we can detect the people in an image."
   ]
  },
  {
   "cell_type": "code",
   "execution_count": null,
   "metadata": {},
   "outputs": [],
   "source": [
    "import cv2\n",
    "import os\n",
    "\n",
    "# Load the background image 1666696481740.jpg from ordered_data\\0\\1666696481740.jpg\n",
    "#bg = cv2.imread(\"ordered_data/0/1666696985773.jpg\")\n",
    "bg = cv2.imread(\"ordered_data/0/1666696642930.jpg\")\n",
    "# Set the path to the directory containing the images\n",
    "path = \"ordered_data/2\"\n",
    "\n",
    "# Iterate over the images in the directory\n",
    "for filename in os.listdir(path):\n",
    "    # Load the image\n",
    "    img = cv2.imread(os.path.join(path, filename))\n",
    "\n",
    "\n",
    "    # Subtract the background image from the current image\n",
    "    diff = cv2.absdiff(bg, img)\n",
    "\n",
    "    # Convert the resulting image to grayscale\n",
    "    gray = cv2.cvtColor(diff, cv2.COLOR_BGR2GRAY)\n",
    "\n",
    "    # print the gray image\n",
    "    cv2.imshow(\"Gray\", gray)\n",
    "    \n",
    "\n",
    "    # Threshold the image to create a binary image with the moving objects\n",
    "    _, thresh = cv2.threshold(gray, 80, 255, cv2.THRESH_BINARY)\n",
    "\n",
    "    # Find the contours of the moving objects\n",
    "    contours, _ = cv2.findContours(thresh, cv2.RETR_EXTERNAL, cv2.CHAIN_APPROX_SIMPLE)\n",
    "\n",
    "    # Iterate over the contours\n",
    "    for c in contours:\n",
    "        # Check if the contour is larger than a threshold size (e.g., 100 pixels)\n",
    "        if cv2.contourArea(c) > 255:\n",
    "            # Draw a rectangle around the contour\n",
    "            (x, y, w, h) = cv2.boundingRect(c)\n",
    "            cv2.rectangle(img, (x, y), (x + w, y + h), (0, 255, 0), 2)\n",
    "\n",
    "    # Show the original frame with the moving objects highlighted\n",
    "    cv2.imshow(\"Frame\", img)\n",
    "    cv2.waitKey(0)\n",
    "\n",
    "# Close the window\n",
    "cv2.destroyAllWindows()"
   ]
  },
  {
   "cell_type": "code",
   "execution_count": 3,
   "metadata": {},
   "outputs": [
    {
     "ename": "KeyboardInterrupt",
     "evalue": "",
     "output_type": "error",
     "traceback": [
      "\u001b[1;31m---------------------------------------------------------------------------\u001b[0m",
      "\u001b[1;31mKeyboardInterrupt\u001b[0m                         Traceback (most recent call last)",
      "Cell \u001b[1;32mIn [3], line 45\u001b[0m\n\u001b[0;32m     43\u001b[0m     \u001b[39m# Show the original frame with the moving objects highlighted\u001b[39;00m\n\u001b[0;32m     44\u001b[0m     cv2\u001b[39m.\u001b[39mimshow(\u001b[39m\"\u001b[39m\u001b[39mFrame\u001b[39m\u001b[39m\"\u001b[39m, img)\n\u001b[1;32m---> 45\u001b[0m     cv2\u001b[39m.\u001b[39;49mwaitKey(\u001b[39m0\u001b[39;49m)\n\u001b[0;32m     47\u001b[0m \u001b[39m# Close the window\u001b[39;00m\n\u001b[0;32m     48\u001b[0m cv2\u001b[39m.\u001b[39mdestroyAllWindows()\n",
      "\u001b[1;31mKeyboardInterrupt\u001b[0m: "
     ]
    }
   ],
   "source": [
    "import cv2\n",
    "import os\n",
    "import PIL\n",
    "import matplotlib\n",
    "\n",
    "\n",
    "# Load the background image 1666696481740.jpg from ordered_data\\0\\1666696481740.jpg\n",
    "#bg = cv2.imread(\"ordered_data/0/1666696985773.jpg\")\n",
    "bg = cv2.imread(\"ordered_data/0/1666711469734.jpg\")\n",
    "# Set the path to the directory containing the images\n",
    "path = \"data/1 Oude Fitness/partition 5\"\n",
    "\n",
    "# Iterate over the images in the directory\n",
    "for filename in os.listdir(path):\n",
    "    # Load the image\n",
    "    img = cv2.imread(os.path.join(path, filename))\n",
    "\n",
    "\n",
    "    # Subtract the background image from the current image\n",
    "    diff = cv2.absdiff(bg, img)\n",
    "\n",
    "    # Convert the resulting image to grayscale\n",
    "    gray = cv2.cvtColor(diff, cv2.COLOR_BGR2GRAY)\n",
    "\n",
    "    # print the gray image\n",
    "    cv2.imshow(\"Gray\", gray)\n",
    "    PIL.Image.fromarray(gray).save(\"gray.jpg\")\n",
    "\n",
    "    # Threshold the image to create a binary image with the moving objects\n",
    "    _, thresh = cv2.threshold(gray, 80, 255, cv2.THRESH_BINARY)\n",
    "\n",
    "    # Find the contours of the moving objects\n",
    "    contours, _ = cv2.findContours(thresh, cv2.RETR_EXTERNAL, cv2.CHAIN_APPROX_SIMPLE)\n",
    "\n",
    "    # Iterate over the contours\n",
    "    for c in contours:\n",
    "        # Check if the contour is larger than a threshold size (e.g., 100 pixels)\n",
    "        if cv2.contourArea(c) > 100:\n",
    "            # Draw a rectangle around the contour\n",
    "            (x, y, w, h) = cv2.boundingRect(c)\n",
    "            cv2.rectangle(img, (x, y), (x + w, y + h), (0, 255, 0), 2)\n",
    "\n",
    "    # Show the original frame with the moving objects highlighted\n",
    "    cv2.imshow(\"Frame\", img)\n",
    "    cv2.waitKey(0)\n",
    "\n",
    "# Close the window\n",
    "cv2.destroyAllWindows()"
   ]
  },
  {
   "attachments": {},
   "cell_type": "markdown",
   "metadata": {},
   "source": []
  }
 ],
 "metadata": {
  "kernelspec": {
   "display_name": "Python 3",
   "language": "python",
   "name": "python3"
  },
  "language_info": {
   "codemirror_mode": {
    "name": "ipython",
    "version": 3
   },
   "file_extension": ".py",
   "mimetype": "text/x-python",
   "name": "python",
   "nbconvert_exporter": "python",
   "pygments_lexer": "ipython3",
   "version": "3.8.5"
  },
  "orig_nbformat": 4,
  "vscode": {
   "interpreter": {
    "hash": "d5d1249b5fe30e46e74ceeacdd3f24b42c98167c36f219cfad19945447007da9"
   }
  }
 },
 "nbformat": 4,
 "nbformat_minor": 2
}
