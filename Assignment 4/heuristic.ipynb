{
 "cells": [
  {
   "attachments": {},
   "cell_type": "markdown",
   "metadata": {},
   "source": [
    "This is the notebook of the following medium difficulty task: (OpenCV) Try heuristic algorithms e.g., you select an image of the place without people. You subtract all images from that image in your test set. The number of shapes larger than a threshold size are people. Compare speed/performance. Feel free to suggest other heuristics.\n",
    "\n",
    "We are basically trying to look at the difference between the background image and the image filled with people. This way we can detect the people in an image."
   ]
  },
  {
   "cell_type": "code",
   "execution_count": 2,
   "metadata": {},
   "outputs": [],
   "source": [
    "import cv2\n",
    "import os\n",
    "import PIL\n",
    "import matplotlib\n",
    "\n",
    "\n",
    "# Load the background image 1666696481740.jpg from ordered_data\\0\\1666696481740.jpg\n",
    "#bg = cv2.imread(\"ordered_data/0/1666696985773.jpg\")\n",
    "bg = cv2.imread(\"ordered_data/0/1666711469734.jpg\")\n",
    "# Set the path to the directory containing the images\n",
    "path = \"data/1 Oude Fitness/partition 5\"\n",
    "\n",
    "# Iterate over the images in the directory\n",
    "for filename in os.listdir(path):\n",
    "    # Load the image\n",
    "    img = cv2.imread(os.path.join(path, filename))\n",
    "\n",
    "\n",
    "    # Subtract the background image from the current image\n",
    "    diff = cv2.absdiff(bg, img)\n",
    "\n",
    "    # Convert the resulting image to grayscale\n",
    "    gray = cv2.cvtColor(diff, cv2.COLOR_BGR2GRAY)\n",
    "\n",
    "    # print the gray image\n",
    "    cv2.imshow(\"Gray\", gray)\n",
    "    PIL.Image.fromarray(gray).save(\"gray.jpg\")\n",
    "\n",
    "    # Threshold the image to create a binary image with the moving objects\n",
    "    _, thresh = cv2.threshold(gray, 80, 255, cv2.THRESH_BINARY)\n",
    "\n",
    "    # Find the contours of the moving objects\n",
    "    contours, _ = cv2.findContours(thresh, cv2.RETR_EXTERNAL, cv2.CHAIN_APPROX_SIMPLE)\n",
    "\n",
    "    # Iterate over the contours\n",
    "    for c in contours:\n",
    "        # Check if the contour is larger than a threshold size (e.g., 100 pixels)\n",
    "        if cv2.contourArea(c) > 100:\n",
    "            # Draw a rectangle around the contour\n",
    "            (x, y, w, h) = cv2.boundingRect(c)\n",
    "            cv2.rectangle(img, (x, y), (x + w, y + h), (0, 255, 0), 2)\n",
    "\n",
    "    # Show the original frame with the moving objects highlighted\n",
    "    cv2.imshow(\"Frame\", img)\n",
    "    cv2.waitKey(0)\n",
    "\n",
    "# Close the window\n",
    "cv2.destroyAllWindows()"
   ]
  },
  {
   "attachments": {},
   "cell_type": "markdown",
   "metadata": {},
   "source": [
    "When run, the script will display each image in a separate Python window and highlight any people detected with a green bounding box. \n",
    "\n",
    "#### the user can press the \"0\" key to move on to the next image and observe the algorithm's detections.\n",
    "In terms of performance, this algorithm is effective in detecting people, but may struggle with variations in lighting conditions. It may mark objects incorrectly when there are significant differences in lighting between the input image and the original image used as a reference. "
   ]
  },
  {
   "cell_type": "code",
   "execution_count": 1,
   "metadata": {},
   "outputs": [],
   "source": [
    "import cv2\n",
    "import os\n",
    "import time\n",
    "\n",
    "# Load the HOG + SVM based detector\n",
    "hog = cv2.HOGDescriptor()\n",
    "hog.setSVMDetector(cv2.HOGDescriptor_getDefaultPeopleDetector())\n",
    "\n",
    "# Set the path to the directory containing the images\n",
    "path = \"data/1 Oude Fitness/partition 5\"\n",
    "\n",
    "# Iterate over the images in the directory\n",
    "for filename in os.listdir(path):\n",
    "    # Load the image\n",
    "    start_time = time.time()\n",
    "    image = cv2.imread(os.path.join(path, filename))\n",
    "\n",
    "    # Perform the detection\n",
    "    boxes, weights = hog.detectMultiScale(image, winStride=(8,8), hitThreshold = 0)\n",
    "\n",
    "\n",
    "    # Draw the bounding boxes on the image\n",
    "    for (x, y, w, h) in boxes:\n",
    "        cv2.rectangle(image, (x, y), (x + w, y + h), (0, 255, 0), 2)\n",
    "\n",
    "\n",
    "    # Show the image with the bounding boxes\n",
    "    cv2.imshow(\"Image\", image)\n",
    "    cv2.waitKey(0)\n",
    "    \n",
    "\n",
    "\n",
    "# Close the window\n",
    "cv2.destroyAllWindows()\n"
   ]
  },
  {
   "attachments": {},
   "cell_type": "markdown",
   "metadata": {},
   "source": [
    "The HOG + SVM based detector algorithm is well-suited for handling variations in lighting conditions. However, it may come at the cost of reduced overall accuracy and fewer detections of people in the images. Despite this, the algorithm is able to maintain a high level of precision by making very few to no errors in light variations. This algorithm is specialized for detecting people."
   ]
  },
  {
   "cell_type": "code",
   "execution_count": 1,
   "metadata": {},
   "outputs": [],
   "source": [
    "import cv2\n",
    "import os\n",
    "\n",
    "# Create a MOG2 background subtractor object\n",
    "fgbg = cv2.createBackgroundSubtractorMOG2()\n",
    "\n",
    "# Set the path to the directory containing the images\n",
    "path = \"data/1 Oude Fitness/partition 5\"\n",
    "\n",
    "# Iterate over the images in the directory\n",
    "for filename in os.listdir(path):\n",
    "    # Load the image\n",
    "    img = cv2.imread(os.path.join(path, filename))\n",
    "\n",
    "    # Use the MOG2 background subtractor to get the foreground mask\n",
    "    fgmask = fgbg.apply(img)\n",
    "\n",
    "    # Threshold the foreground mask to create a binary image with the moving objects\n",
    "    _, thresh = cv2.threshold(fgmask, 200, 255, cv2.THRESH_BINARY)\n",
    "\n",
    "    # Find the contours of the moving objects\n",
    "    contours, _ = cv2.findContours(thresh, cv2.RETR_EXTERNAL, cv2.CHAIN_APPROX_SIMPLE)\n",
    "\n",
    "    # Iterate over the contours\n",
    "    for c in contours:\n",
    "        # Check if the contour is larger than a threshold size (e.g., 100 pixels)\n",
    "        if cv2.contourArea(c) > 100:\n",
    "            # Draw a rectangle around the contour\n",
    "            (x, y, w, h) = cv2.boundingRect(c)\n",
    "            cv2.rectangle(img, (x, y), (x + w, y + h), (0, 255, 0), 2)\n",
    "\n",
    "    # Show the original frame with the moving objects highlighted\n",
    "    cv2.imshow(\"Frame\", img)\n",
    "    cv2.waitKey(0)\n",
    "\n",
    "# Close the window\n",
    "cv2.destroyAllWindows()"
   ]
  },
  {
   "attachments": {},
   "cell_type": "markdown",
   "metadata": {},
   "source": []
  },
  {
   "attachments": {},
   "cell_type": "markdown",
   "metadata": {},
   "source": [
    "unlike the previous code MOG2 is not limited to detecting people. It is trained on detecting moving objects. So this would be a good fit to detect any object but not people persee. "
   ]
  },
  {
   "attachments": {},
   "cell_type": "markdown",
   "metadata": {},
   "source": [
    "#### SPEED: To measure the performance, remove the commenting from \"cv2.waitKey(0)\" in each algorithm to allow the code to execute without interruption.\"\n",
    "\n",
    "#### In terms of speed, algorithm 1 and 2 seem to perform quite good! The second algorithm HOG + SVM takes longer because it is performing a more complex detection task. "
   ]
  }
 ],
 "metadata": {
  "kernelspec": {
   "display_name": "Python 3",
   "language": "python",
   "name": "python3"
  },
  "language_info": {
   "codemirror_mode": {
    "name": "ipython",
    "version": 3
   },
   "file_extension": ".py",
   "mimetype": "text/x-python",
   "name": "python",
   "nbconvert_exporter": "python",
   "pygments_lexer": "ipython3",
   "version": "3.8.7"
  },
  "orig_nbformat": 4,
  "vscode": {
   "interpreter": {
    "hash": "aee8b7b246df8f9039afb4144a1f6fd8d2ca17a180786b69acc140d282b71a49"
   }
  }
 },
 "nbformat": 4,
 "nbformat_minor": 2
}
