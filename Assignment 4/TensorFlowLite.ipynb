{
 "cells": [
  {
   "cell_type": "code",
   "execution_count": 3,
   "metadata": {},
   "outputs": [],
   "source": [
    "import pandas as pd\n",
    "from sklearn import svm\n",
    "import tensorflow as tf\n",
    "import matplotlib.pyplot as plt\n",
    "from sklearn.model_selection import train_test_split\n",
    "from tensorflow.keras import layers\n",
    "from tensorflow.keras import models\n",
    "\n",
    "# Load data from the txt file\n",
    "data = pd.read_csv('comparing_dl_vs_non_dl/non_linear_classification.csv', header=None)\n"
   ]
  },
  {
   "cell_type": "code",
   "execution_count": 2,
   "metadata": {},
   "outputs": [],
   "source": [
    "x = data[[0, 1]]\n",
    "y = data[2]\n",
    "\n",
    "# Split the data into training and testing sets\n",
    "x_train, x_test, y_train, y_test = train_test_split(x, y, test_size=0.2, random_state=42)"
   ]
  },
  {
   "cell_type": "code",
   "execution_count": 78,
   "metadata": {},
   "outputs": [
    {
     "name": "stdout",
     "output_type": "stream",
     "text": [
      "Model: \"sequential_6\"\n",
      "_________________________________________________________________\n",
      " Layer (type)                Output Shape              Param #   \n",
      "=================================================================\n",
      " dense_48 (Dense)            (None, 64)                192       \n",
      "                                                                 \n",
      " dense_49 (Dense)            (None, 64)                4160      \n",
      "                                                                 \n",
      " dense_50 (Dense)            (None, 64)                4160      \n",
      "                                                                 \n",
      " dense_51 (Dense)            (None, 64)                4160      \n",
      "                                                                 \n",
      " dense_52 (Dense)            (None, 64)                4160      \n",
      "                                                                 \n",
      " dense_53 (Dense)            (None, 64)                4160      \n",
      "                                                                 \n",
      " dense_54 (Dense)            (None, 64)                4160      \n",
      "                                                                 \n",
      " dense_55 (Dense)            (None, 1)                 65        \n",
      "                                                                 \n",
      "=================================================================\n",
      "Total params: 25,217\n",
      "Trainable params: 25,217\n",
      "Non-trainable params: 0\n",
      "_________________________________________________________________\n"
     ]
    }
   ],
   "source": [
    "# A neural network with multiple hidden layers\n",
    "deepneural_1 = models.Sequential([\n",
    "    # input layer\n",
    "    layers.Dense(64, activation='relu', input_shape=(2,)),\n",
    "    # multiple hidden layers\n",
    "    layers.Dense(64, activation='relu'),\n",
    "    layers.Dense(64, activation='relu'),\n",
    "    layers.Dense(64, activation='relu'),\n",
    "    layers.Dense(64, activation='relu'),\n",
    "    layers.Dense(64, activation='relu'),\n",
    "    layers.Dense(64, activation='relu'),\n",
    "    # output layer with one neuron\n",
    "    layers.Dense(1, activation='sigmoid')\n",
    "])\n",
    "\n",
    "# Compile the model\n",
    "deepneural_1.compile(optimizer='adam', loss='binary_crossentropy', metrics=['accuracy'])\n",
    "deepneural_1.summary()\n"
   ]
  },
  {
   "cell_type": "code",
   "execution_count": 79,
   "metadata": {},
   "outputs": [
    {
     "name": "stdout",
     "output_type": "stream",
     "text": [
      "Epoch 1/10\n",
      "201/201 [==============================] - 2s 2ms/step - loss: 0.4977 - accuracy: 0.7290\n",
      "Epoch 2/10\n",
      "201/201 [==============================] - 0s 2ms/step - loss: 0.3342 - accuracy: 0.8493\n",
      "Epoch 3/10\n",
      "201/201 [==============================] - 0s 2ms/step - loss: 0.2818 - accuracy: 0.8847\n",
      "Epoch 4/10\n",
      "201/201 [==============================] - 0s 2ms/step - loss: 0.2549 - accuracy: 0.9057\n",
      "Epoch 5/10\n",
      "201/201 [==============================] - 0s 2ms/step - loss: 0.2446 - accuracy: 0.9052\n",
      "Epoch 6/10\n",
      "201/201 [==============================] - 0s 1ms/step - loss: 0.2468 - accuracy: 0.9022\n",
      "Epoch 7/10\n",
      "201/201 [==============================] - 0s 1ms/step - loss: 0.2238 - accuracy: 0.9157\n",
      "Epoch 8/10\n",
      "201/201 [==============================] - 0s 2ms/step - loss: 0.2106 - accuracy: 0.9097\n",
      "Epoch 9/10\n",
      "201/201 [==============================] - 0s 2ms/step - loss: 0.1820 - accuracy: 0.9182\n",
      "Epoch 10/10\n",
      "201/201 [==============================] - 0s 1ms/step - loss: 0.2028 - accuracy: 0.9092\n"
     ]
    }
   ],
   "source": [
    "\n",
    "deepneural_1_hist = deepneural_1.fit(x_train, y_train, epochs=10, batch_size=10)\n",
    "\n",
    "\n"
   ]
  },
  {
   "cell_type": "code",
   "execution_count": 80,
   "metadata": {},
   "outputs": [
    {
     "name": "stderr",
     "output_type": "stream",
     "text": [
      "WARNING:absl:Found untraced functions such as _update_step_xla while saving (showing 1 of 1). These functions will not be directly callable after loading.\n"
     ]
    },
    {
     "name": "stdout",
     "output_type": "stream",
     "text": [
      "INFO:tensorflow:Assets written to: /var/folders/37/z4jydb4976915t7k69vbvb4c0000gn/T/tmpi7qwtj14/assets\n"
     ]
    },
    {
     "name": "stderr",
     "output_type": "stream",
     "text": [
      "INFO:tensorflow:Assets written to: /var/folders/37/z4jydb4976915t7k69vbvb4c0000gn/T/tmpi7qwtj14/assets\n",
      "2023-01-23 00:09:14.585915: W tensorflow/compiler/mlir/lite/python/tf_tfl_flatbuffer_helpers.cc:362] Ignored output_format.\n",
      "2023-01-23 00:09:14.585933: W tensorflow/compiler/mlir/lite/python/tf_tfl_flatbuffer_helpers.cc:365] Ignored drop_control_dependency.\n",
      "2023-01-23 00:09:14.586134: I tensorflow/cc/saved_model/reader.cc:45] Reading SavedModel from: /var/folders/37/z4jydb4976915t7k69vbvb4c0000gn/T/tmpi7qwtj14\n",
      "2023-01-23 00:09:14.588946: I tensorflow/cc/saved_model/reader.cc:89] Reading meta graph with tags { serve }\n",
      "2023-01-23 00:09:14.588964: I tensorflow/cc/saved_model/reader.cc:130] Reading SavedModel debug info (if present) from: /var/folders/37/z4jydb4976915t7k69vbvb4c0000gn/T/tmpi7qwtj14\n",
      "2023-01-23 00:09:14.600981: I tensorflow/cc/saved_model/loader.cc:229] Restoring SavedModel bundle.\n",
      "2023-01-23 00:09:14.709334: I tensorflow/cc/saved_model/loader.cc:213] Running initialization op on SavedModel bundle at path: /var/folders/37/z4jydb4976915t7k69vbvb4c0000gn/T/tmpi7qwtj14\n",
      "2023-01-23 00:09:14.733399: I tensorflow/cc/saved_model/loader.cc:305] SavedModel load for tags { serve }; Status: success: OK. Took 147282 microseconds.\n"
     ]
    }
   ],
   "source": [
    "converter = tf.lite.TFLiteConverter.from_keras_model(deepneural_1)\n",
    "tflite_model = converter.convert()"
   ]
  },
  {
   "cell_type": "code",
   "execution_count": 81,
   "metadata": {},
   "outputs": [],
   "source": [
    "with open('lite.tflite', 'wb') as f:\n",
    "      f.write(tflite_model)"
   ]
  },
  {
   "cell_type": "code",
   "execution_count": 83,
   "metadata": {},
   "outputs": [
    {
     "name": "stdout",
     "output_type": "stream",
     "text": [
      "[[0.99997276]]\n",
      "[[0.1151121]]\n"
     ]
    }
   ],
   "source": [
    "import numpy as np\n",
    "import tensorflow as tf\n",
    "\n",
    "# Load the TensorFlow Lite model\n",
    "interpreter = tf.lite.Interpreter(model_path=\"lite.tflite\")\n",
    "interpreter.allocate_tensors()\n",
    "\n",
    "# Get input and output tensors\n",
    "input_details = interpreter.get_input_details()\n",
    "output_details = interpreter.get_output_details()\n",
    "\n",
    "# Create test input data\n",
    "input_data = np.array([0.50873,0.08490], dtype=np.float32).reshape(1,2)\n",
    "\n",
    "# Run the model on the test input data\n",
    "interpreter.set_tensor(input_details[0]['index'], input_data)\n",
    "interpreter.invoke()\n",
    "\n",
    "# Get the model's output\n",
    "output_data = interpreter.get_tensor(output_details[0]['index'])\n",
    "\n",
    "# Print the output\n",
    "print(output_data)\n",
    "\n",
    "\n",
    "# Create test input data\n",
    "input_data = np.array([0.48690,0.58265], dtype=np.float32).reshape(1,2)\n",
    "\n",
    "# Run the model on the test input data\n",
    "interpreter.set_tensor(input_details[0]['index'], input_data)\n",
    "interpreter.invoke()\n",
    "\n",
    "# Get the model's output\n",
    "output_data = interpreter.get_tensor(output_details[0]['index'])\n",
    "\n",
    "# Print the output\n",
    "print(output_data)\n"
   ]
  },
  {
   "attachments": {},
   "cell_type": "markdown",
   "metadata": {},
   "source": [
    "As we can see in the above code the saved model can now be reused. It seems to make the right predictions, so we can conclude that it works. "
   ]
  }
 ],
 "metadata": {
  "kernelspec": {
   "display_name": "Python 3",
   "language": "python",
   "name": "python3"
  },
  "language_info": {
   "codemirror_mode": {
    "name": "ipython",
    "version": 3
   },
   "file_extension": ".py",
   "mimetype": "text/x-python",
   "name": "python",
   "nbconvert_exporter": "python",
   "pygments_lexer": "ipython3",
   "version": "3.10.9"
  },
  "orig_nbformat": 4,
  "vscode": {
   "interpreter": {
    "hash": "53af14ca73579f38fc35504d34bf3f508b7be4b24c212c3802f5823429636072"
   }
  }
 },
 "nbformat": 4,
 "nbformat_minor": 2
}
