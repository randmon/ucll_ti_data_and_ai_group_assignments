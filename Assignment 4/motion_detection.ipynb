{
 "cells": [
  {
   "cell_type": "code",
   "execution_count": null,
   "metadata": {},
   "outputs": [],
   "source": [
    "import os\n",
    "import cv2\n",
    "import numpy as np\n",
    "\n",
    "def motion_detector():\n",
    "    frame_count = 0\n",
    "    previous_frame = None\n",
    "    image_directory = \"data/1 Oude Fitness/partition 5\"\n",
    "    image_files = os.listdir(image_directory)\n",
    "\n",
    "    for image_file in image_files:\n",
    "        if image_file.endswith(\".jpg\"):\n",
    "            frame_count += 1\n",
    "            img_rgb = cv2.imread(os.path.join(image_directory, image_file))\n",
    "\n",
    "            if ((frame_count % 2) == 0):\n",
    "                prepared_frame = cv2.cvtColor(img_rgb, cv2.COLOR_BGR2GRAY)\n",
    "                prepared_frame = cv2.GaussianBlur(src=prepared_frame, ksize=(5,5), sigmaX=0)\n",
    "                if (previous_frame is None):\n",
    "                    previous_frame = prepared_frame\n",
    "                    continue\n",
    "\n",
    "                diff_frame = cv2.absdiff(src1=previous_frame, src2=prepared_frame)\n",
    "                previous_frame = prepared_frame\n",
    "\n",
    "                kernel = np.ones((5, 5))\n",
    "                diff_frame = cv2.dilate(diff_frame, kernel, 1)\n",
    "\n",
    "                thresh_frame = cv2.threshold(src=diff_frame, thresh=20, maxval=255, type=cv2.THRESH_BINARY)[1]\n",
    "\n",
    "                contours, _ = cv2.findContours(image=thresh_frame, mode=cv2.RETR_EXTERNAL, method=cv2.CHAIN_APPROX_SIMPLE)\n",
    "                cv2.drawContours(image=img_rgb, contours=contours, contourIdx=-1, color=(0, 255, 0), thickness=2, lineType=cv2.LINE_AA)\n",
    "                contours, _ = cv2.findContours(image=thresh_frame, mode=cv2.RETR_EXTERNAL, method=cv2.CHAIN_APPROX_SIMPLE)\n",
    "                for contour in contours:\n",
    "                    if cv2.contourArea(contour) < 50:\n",
    "                        # too small: skip!\n",
    "                        continue\n",
    "                    (x, y, w, h) = cv2.boundingRect(contour)\n",
    "                    cv2.rectangle(img=img_rgb, pt1=(x, y), pt2=(x + w, y + h), color=(0, 255, 0), thickness=2)\n",
    "                cv2.imshow('Motion detector', img_rgb)\n",
    "                cv2.waitKey(0)\n",
    "\n",
    "        if (cv2.waitKey(30) == 27):\n",
    "            break\n",
    "    cv2.destroyAllWindows()\n",
    "\n",
    "motion_detector()"
   ]
  },
  {
   "attachments": {},
   "cell_type": "markdown",
   "metadata": {},
   "source": [
    "Detecting motion using optical flow."
   ]
  },
  {
   "cell_type": "code",
   "execution_count": null,
   "metadata": {},
   "outputs": [],
   "source": [
    "image_directory = \"data/1 Oude Fitness/partition 5\"\n",
    "\n",
    "prev_frame = cv2.imread(os.path.join(image_directory, os.listdir(image_directory)[0]))\n",
    "prev_gray = cv2.cvtColor(prev_frame, cv2.COLOR_BGR2GRAY)\n",
    "\n",
    "flow_image = np.zeros_like(prev_frame)\n",
    "\n",
    "lk_params = dict(winSize=(15, 15),\n",
    "                 maxLevel=2,\n",
    "                 criteria=(cv2.TERM_CRITERIA_EPS | cv2.TERM_CRITERIA_COUNT, 10, 0.03))\n",
    "\n",
    "prev_points = cv2.goodFeaturesToTrack(prev_gray, maxCorners=200, qualityLevel=0.01, minDistance=30)\n",
    "\n",
    "for image_path in os.listdir(image_directory):\n",
    "    if image_path.endswith(\".jpg\"):\n",
    "        frame = cv2.imread(os.path.join(image_directory, image_path))\n",
    "\n",
    "        gray = cv2.cvtColor(frame, cv2.COLOR_BGR2GRAY)\n",
    "\n",
    "        curr_points, status, _ = cv2.calcOpticalFlowPyrLK(prev_gray, gray, prev_points, None, **lk_params)\n",
    "\n",
    "        good_points = curr_points[status == 1]\n",
    "        prev_points = good_points.reshape(-1, 1, 2)\n",
    "\n",
    "        for i, (new, old) in enumerate(zip(good_points, prev_points)):\n",
    "            a, b = new.ravel()\n",
    "            c, d = old.ravel()\n",
    "            flow_image = cv2.line(flow_image, (int(a), int(b)), (int(c), int(d)), [0, 0, 255], 2)\n",
    "            frame = cv2.circle(frame, (int(a), int(b)), 5, [0, 0, 255], -1)\n",
    "\n",
    "        prev_gray = gray\n",
    "\n",
    "        cv2.imshow(\"Optical Flow\", flow_image)\n",
    "        cv2.imshow(\"Frame\", frame)\n",
    "\n",
    "        key = cv2.waitKey(0)\n",
    "\n",
    "        if key == ord(\"q\"):\n",
    "            break\n",
    "\n",
    "cv2.destroyAllWindows()"
   ]
  }
 ],
 "metadata": {
  "kernelspec": {
   "display_name": "Python 3",
   "language": "python",
   "name": "python3"
  },
  "language_info": {
   "codemirror_mode": {
    "name": "ipython",
    "version": 3
   },
   "file_extension": ".py",
   "mimetype": "text/x-python",
   "name": "python",
   "nbconvert_exporter": "python",
   "pygments_lexer": "ipython3",
   "version": "3.8.5"
  },
  "orig_nbformat": 4,
  "vscode": {
   "interpreter": {
    "hash": "d5d1249b5fe30e46e74ceeacdd3f24b42c98167c36f219cfad19945447007da9"
   }
  }
 },
 "nbformat": 4,
 "nbformat_minor": 2
}
